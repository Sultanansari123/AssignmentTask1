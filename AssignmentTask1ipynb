{
 "cells": [
  {
   "cell_type": "code",
   "execution_count": 14,
   "id": "993677ca-a7dd-463e-8106-5c34d5e207d8",
   "metadata": {},
   "outputs": [],
   "source": [
    "#Ans1-\n",
    "list1=[1,2,3,4,[44,55,66,True],False,(34,56,78,89,34),{1,2,3,3,2,1},{1:34,\"key\":[55,67,78,89],4:(45,22,61,34)},[56,'data science'],'Machine Learning']"
   ]
  },
  {
   "cell_type": "code",
   "execution_count": 15,
   "id": "621c6cd1-a54b-4c77-8208-1465022f700c",
   "metadata": {},
   "outputs": [],
   "source": [
    "def flat_list(l):\n",
    "    flat_l=[]\n",
    "    for item in l:\n",
    "        if type(item) is list:\n",
    "            for element in item:\n",
    "                if type(element)==int:\n",
    "                    flat_l.append(element)\n",
    "        elif type(item)==int:\n",
    "             flat_l.append(item)\n",
    "        elif type(item) is tuple:\n",
    "            for element1 in item:\n",
    "                if type(element1)==int:\n",
    "                    flat_l.append(element1)\n",
    "        elif type(item) is set:\n",
    "            for element2 in item:\n",
    "                if type(element2)==int:\n",
    "                    flat_l.append(element2)\n",
    "        elif type(item) is dict:\n",
    "            for k,v in d.items():\n",
    "                if type(k) is int:\n",
    "                    if type(v)==int:\n",
    "                        flat_l.append(v)\n",
    "                    elif type(v) is list:\n",
    "                        for ele3 in v:\n",
    "                            flat_l.append(ele3)\n",
    "                    elif type(v) is tuple:\n",
    "                        for ele4 in v:\n",
    "                            flat_l.append(ele4)\n",
    "    return(flat_l)\n",
    "            \n"
   ]
  },
  {
   "cell_type": "code",
   "execution_count": 16,
   "id": "08d9292a-d14d-4017-8dde-4a94c4b58e6e",
   "metadata": {},
   "outputs": [],
   "source": [
    "l=flat_list(list1)\n"
   ]
  },
  {
   "cell_type": "code",
   "execution_count": 18,
   "id": "e41a5c0e-f613-4839-9cb4-8ba6827e3e2d",
   "metadata": {},
   "outputs": [
    {
     "name": "stdout",
     "output_type": "stream",
     "text": [
      "40407609151022266279526400\n"
     ]
    }
   ],
   "source": [
    "import functools\n",
    "print(functools.reduce(lambda a,b:a*b, l))"
   ]
  },
  {
   "cell_type": "code",
   "execution_count": 20,
   "id": "226a949c-0829-464d-a206-55b92b5a101a",
   "metadata": {},
   "outputs": [
    {
     "name": "stdout",
     "output_type": "stream",
     "text": [
      " R dzmg gl yvxlnv z Wzgz Hxrvmgrhg\n"
     ]
    }
   ],
   "source": [
    "#Ans2-taking input from user\n",
    "data=\"I want to become a Data Scientist\"\n",
    "#conversion chart\n",
    "la=\"abcdefghijklmnopqrstuvwxyz\"\n",
    "ua=\"ABCDEFGHIJKLMNOPQRSTUVWXYZ\"\n",
    "lra=la[::-1]\n",
    "ura=ua[::-1]\n",
    "#encrypt data\n",
    "encrypt_data=\" \"\n",
    "for i in range(0,len(data)):\n",
    "    if data[i] in la:\n",
    "        encrypt_data+=lra[la.index(data[i])]\n",
    "    elif data[i] in ua:\n",
    "        encrypt_data+=ura[ua.index(data[i])]\n",
    "    else:\n",
    "        encrypt_data+=\" \"\n",
    "#printing the encrypt data\n",
    "print(encrypt_data)"
   ]
  },
  {
   "cell_type": "code",
   "execution_count": 28,
   "id": "a892d769-7727-481c-92c0-e8d0a70869b5",
   "metadata": {},
   "outputs": [
    {
     "name": "stdout",
     "output_type": "stream",
     "text": [
      "b'I want to become a Data Scientist'\n",
      "I want to become a Data Scientist\n"
     ]
    }
   ],
   "source": [
    "data=\"I want to become a Data Scientist\"\n",
    "#encode data\n",
    "encode_data=data.encode(encoding='utf8')\n",
    "print(encode_data)\n",
    "#decode data\n",
    "decode_data=encode_data.decode('utf8','strict')\n",
    "print(decode_data)"
   ]
  },
  {
   "cell_type": "code",
   "execution_count": null,
   "id": "aaae37a7-bf61-4cb0-8ad4-e822a6153e0e",
   "metadata": {},
   "outputs": [],
   "source": []
  }
 ],
 "metadata": {
  "kernelspec": {
   "display_name": "Python 3 (ipykernel)",
   "language": "python",
   "name": "python3"
  },
  "language_info": {
   "codemirror_mode": {
    "name": "ipython",
    "version": 3
   },
   "file_extension": ".py",
   "mimetype": "text/x-python",
   "name": "python",
   "nbconvert_exporter": "python",
   "pygments_lexer": "ipython3",
   "version": "3.10.8"
  }
 },
 "nbformat": 4,
 "nbformat_minor": 5
}
